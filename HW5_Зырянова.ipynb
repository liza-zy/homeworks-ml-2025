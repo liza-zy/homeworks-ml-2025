{
  "nbformat": 4,
  "nbformat_minor": 0,
  "metadata": {
    "colab": {
      "provenance": [],
      "include_colab_link": true
    },
    "kernelspec": {
      "name": "python3",
      "display_name": "Python 3"
    },
    "language_info": {
      "name": "python"
    }
  },
  "cells": [
    {
      "cell_type": "markdown",
      "metadata": {
        "id": "view-in-github",
        "colab_type": "text"
      },
      "source": [
        "<a href=\"https://colab.research.google.com/github/liza-zy/homeworks-ml-2025/blob/main/HW5_%D0%97%D1%8B%D1%80%D1%8F%D0%BD%D0%BE%D0%B2%D0%B0.ipynb\" target=\"_parent\"><img src=\"https://colab.research.google.com/assets/colab-badge.svg\" alt=\"Open In Colab\"/></a>"
      ]
    },
    {
      "cell_type": "markdown",
      "source": [
        "### Модуль 5. Продуктовый аналитик\n",
        "\n",
        "Сегодня твоя задача - создать грамотную продуктовую гипотезу по всем правилам.\n",
        "\n",
        "Пусть твоя онлайн-школа называется **\"Другое\"**. Она на 4-м месте, поскольку из 10 Пб данных часть таблиц используется неправильно, клиентские серверы работают медленно, работа аналитиков разрозненна и неуполрядочена. Сейчас стоит вопрос об инвестициях в большие серверы в надежде, что ситуация исправится.  \n",
        "\n",
        "Пожалуйста, ознакомься со статистикой и предложи как вывести онлайн-школу \"Другое\" на **первое место**."
      ],
      "metadata": {
        "id": "MlDbbLv8fssG"
      }
    },
    {
      "cell_type": "code",
      "source": [
        "%%html\n",
        "                                                                                                                                                                                         <div class='tableauPlaceholder' id='viz1753210471159' style='position: relative'><noscript><a href='#'><img alt='Survey ' src='https:&#47;&#47;public.tableau.com&#47;static&#47;images&#47;20&#47;2024_17276804878150&#47;Survey&#47;1_rss.png' style='border: none' /></a></noscript><object class='tableauViz'  style='display:none;'><param name='host_url' value='https%3A%2F%2Fpublic.tableau.com%2F' /> <param name='embed_code_version' value='3' /> <param name='site_root' value='' /><param name='name' value='2024_17276804878150&#47;Survey' /><param name='tabs' value='no' /><param name='toolbar' value='yes' /><param name='static_image' value='https:&#47;&#47;public.tableau.com&#47;static&#47;images&#47;20&#47;2024_17276804878150&#47;Survey&#47;1.png' /> <param name='animate_transition' value='yes' /><param name='display_static_image' value='yes' /><param name='display_spinner' value='yes' /><param name='display_overlay' value='yes' /><param name='display_count' value='yes' /><param name='language' value='en-US' /></object></div>                <script type='text/javascript'>                    var divElement = document.getElementById('viz1753210471159');                    var vizElement = divElement.getElementsByTagName('object')[0];                    vizElement.style.minWidth='1200px';vizElement.style.maxWidth='1920px';vizElement.style.width='100%';vizElement.style.height='1227px';                    var scriptElement = document.createElement('script');                    scriptElement.src = 'https://public.tableau.com/javascripts/api/viz_v1.js';                    vizElement.parentNode.insertBefore(scriptElement, vizElement);                </script>"
      ],
      "metadata": {
        "colab": {
          "base_uri": "https://localhost:8080/",
          "height": 1000
        },
        "id": "inA3L8q4cjmK",
        "outputId": "117027f1-1c31-498c-fdb5-7a5d72448d4f"
      },
      "execution_count": null,
      "outputs": [
        {
          "output_type": "display_data",
          "data": {
            "text/plain": [
              "<IPython.core.display.HTML object>"
            ],
            "text/html": [
              "                                                                                                                                                                                         <div class='tableauPlaceholder' id='viz1753210471159' style='position: relative'><noscript><a href='#'><img alt='Survey ' src='https:&#47;&#47;public.tableau.com&#47;static&#47;images&#47;20&#47;2024_17276804878150&#47;Survey&#47;1_rss.png' style='border: none' /></a></noscript><object class='tableauViz'  style='display:none;'><param name='host_url' value='https%3A%2F%2Fpublic.tableau.com%2F' /> <param name='embed_code_version' value='3' /> <param name='site_root' value='' /><param name='name' value='2024_17276804878150&#47;Survey' /><param name='tabs' value='no' /><param name='toolbar' value='yes' /><param name='static_image' value='https:&#47;&#47;public.tableau.com&#47;static&#47;images&#47;20&#47;2024_17276804878150&#47;Survey&#47;1.png' /> <param name='animate_transition' value='yes' /><param name='display_static_image' value='yes' /><param name='display_spinner' value='yes' /><param name='display_overlay' value='yes' /><param name='display_count' value='yes' /><param name='language' value='en-US' /></object></div>                <script type='text/javascript'>                    var divElement = document.getElementById('viz1753210471159');                    var vizElement = divElement.getElementsByTagName('object')[0];                    vizElement.style.minWidth='1200px';vizElement.style.maxWidth='1920px';vizElement.style.width='100%';vizElement.style.height='1227px';                    var scriptElement = document.createElement('script');                    scriptElement.src = 'https://public.tableau.com/javascripts/api/viz_v1.js';                    vizElement.parentNode.insertBefore(scriptElement, vizElement);                </script>\n"
            ]
          },
          "metadata": {}
        }
      ]
    },
    {
      "cell_type": "markdown",
      "source": [
        "### Задание №1\n",
        "\n",
        "Нужно выбрать основные показатели(метрики) продукта и построить пирамиду(иерархию) метрик.\n",
        "\n",
        "Какие метрики ты выберешь для онлайн-школы \"Другое\" ?"
      ],
      "metadata": {
        "id": "nU3kqFNSllIg"
      }
    },
    {
      "cell_type": "markdown",
      "source": [
        "В качестве метрики North Star выберем среднюю общую оценку платформы. Во-первых, задача состоит в выведении онлайн-школы на первое место именно по этой метрике. Во-вторых, она показывает совокупное восприятие качества обучения и опыта студентов и формируется под влиянием всех нижестоящих метрик.\n",
        "\n",
        "Иерархия метрик.\n",
        "Метрика North Star:\n",
        "- Средняя общая оценка платформы\n",
        "\n",
        "Метрики 2 уровня:\n",
        "- Лояльность (насколько вы готовы рекомендовать курс)\n",
        "- Удержание студентов (доля студентов, прошедших курс до конца)\n",
        "\n",
        "Метрики 3 уровня (Качество программ)\n",
        "- Длительность\n",
        "- Сложность\n",
        "- Уникальность (при выборе)\n",
        "- Сбалансированность программ обучения (насколько равномерно выбирают разные программы)"
      ],
      "metadata": {
        "id": "vlYckDweWrmK"
      }
    },
    {
      "cell_type": "markdown",
      "source": [
        "### Задание №2\n",
        "\n",
        "\n",
        "Продуктовая гипотеза — это предположение о том, что произойдет с продуктом после внесения определенного изменения. Она помогает определить, как изменение продукта повлияет на пользователей и на бизнес в целом.\n",
        "\n",
        "**Продуктовая гипотеза содержит несколько ключевых элементов, таких как:**\n",
        "\n",
        "* Изменение продукта: что будет изменено или добавлено в продукт.\n",
        "* Целевая аудитория: кто будет использовать измененный продукт и какие проблемы они имеют.\n",
        "* Ожидаемый результат: как изменение продукта повлияет на пользователей и бизнес.\n",
        "\n",
        "Выбери одну бизнес-метрику, одним предложением опиши любое изменение продукта (например, добавить видео в уроки/убрать видео из уроков/добавить графику/убрать графику/ т.д.) для целевой аудитории 25-34 года из России и подробно опиши как вушеупомянутое изменение продукта повлияет на ожидаемый результат (метрику)."
      ],
      "metadata": {
        "id": "MVYPseq-m6jb"
      }
    },
    {
      "cell_type": "markdown",
      "source": [
        "Возьмем в качестве бизнес-метрики долю пользователей, прошедших курс до конца (относительно тех, кто завершил курс).\n",
        "\n",
        "Для целевой аудитории 25-34 года из России добавим в приложение возможность просматривать ключевые моменты из лекций в виде коротких вертикальных видео.\n",
        "\n",
        "1.\tПовышение доступности контента.\n",
        "Пользователи смогут быстро освежить материал без необходимости пересматривать длинные лекции.\n",
        "Это снизит барьер к возвращению в приложение и уменьшит вероятность пропуска занятий.\n",
        "\n",
        "2.\tФормат, привычный аудитории.\n",
        "Вертикальные видео — формат, который активно используется в TikTok, Reels и Shorts.\n",
        "Он ближе к повседневному поведению аудитории 25–34 лет, поэтому воспринимается легче и вызывает больше вовлечённости.\n",
        "\n",
        "3.\tУвеличение частоты взаимодействий с продуктом.\n",
        "Короткие видео удобно смотреть “на ходу” — в транспорте, на перерывах.\n",
        "Это повышает DAU (Daily Active Users) и частоту входов в приложение, что напрямую связано с ростом удержания.\n",
        "\n",
        "4.\tПоддержание интереса на длительном цикле обучения.\n",
        "В долгих курсах (например, аналитика данных >4 мес) у студентов часто падает мотивация.\n",
        "Короткие динамичные напоминания помогают вернуть интерес и не дать пользователю «остыть» к обучению.\n",
        "\n",
        "5.\tСнижение эффекта перегрузки (cognitive overload).\n",
        "Разделение материала на микросюжеты облегчает усвоение сложных тем, снижая риск фрустрации и отказа от курса\n",
        "\n",
        "6. Также некоторые из этих видео можно будет использовать для контента в соцсетях, что повысит узнаваемость школы и познакомит с форматом материала потенциальных учеников."
      ],
      "metadata": {
        "id": "S-ca4b4zRmhV"
      }
    },
    {
      "cell_type": "markdown",
      "source": [
        "### Задание №3\n",
        "\n",
        "Количество уникальных пользователей, которые использовали приложение в течение месяца (MAU), недели (WAU) или дня (DAU). Пример для расчета DAU:\n",
        "```sql\n",
        "WITH daily_data AS (\n",
        "  SELECT DATE_TRUNC('day', student_enrolment_date) AS day, user_id\n",
        "  FROM students_events_table_fact\n",
        ")\n",
        "SELECT day, COUNT(DISTINCT user_id) AS DAU\n",
        "FROM daily_data\n",
        "GROUP BY day;\n",
        "```\n",
        "\n",
        "Напиши SQL-запрос для расчёта WAU"
      ],
      "metadata": {
        "id": "HyeOEFOao4L2"
      }
    },
    {
      "cell_type": "code",
      "source": [
        "WITH weekly_data AS (\n",
        "    SELECT\n",
        "        DATE_TRUNC('week', student_enrolment_date) AS week,\n",
        "        user_id\n",
        "    FROM students_events_table_fact\n",
        ")\n",
        "SELECT\n",
        "    week, COUNT(DISTINCT user_id) AS WAU\n",
        "FROM weekly_data\n",
        "GROUP BY week;"
      ],
      "metadata": {
        "id": "BBVGz3rTqDVB"
      },
      "execution_count": null,
      "outputs": []
    },
    {
      "cell_type": "markdown",
      "source": [
        "### Задание №4\n",
        "\n",
        "\n",
        "Ролевое измерение (Role-Playing Dimension) может использоваться по-разному в одной и той же таблице или других таблицах модели данных - это фактически одно и то же измерение, но представленное с разных точек зрения.\n",
        "\n",
        "* Опиши как ты будешь проектировать ролевое измерение \"Дата\", которое одновременно используется как \"Дата зачисления\" и как \"Дата завершения\" в таблице фактов (**students_events_table_fact в задании №4**) о зачислении студента на курс и успешном завершении студентом курса.\n",
        "\n",
        "* Напиши SQL-запрос для создания таблицы ролевого измерения \"Дата\"\n",
        "```sql\n",
        "CREATE TABLE dates_dim\n",
        "```"
      ],
      "metadata": {
        "id": "kwRMhttei4jx"
      }
    },
    {
      "cell_type": "markdown",
      "source": [
        "Каждая запись о событии из students_events_table_fact содержит дату зачисления и дату завершения, обе из одного календарного справочника dates_dim. В аналитических отчётах при необходимости можно использовать эти даты с разными ролями — например, анализировать динамику зачислений по месяцам или процент завершений по неделям. В самой таблице измерения dates_dim хранятся как собственно даты, так и производные признаки, которые обеспечивают гибкость анализа и упрощают группировки, фильтры и джойны:\n",
        "\n",
        "\t- date_key — уникальный числовой ключ в формате YYYYMMDD, используется как суррогатный ключ для связей с фактами.\n",
        "\n",
        "\t- full_date — реальная дата (DATE), основной календарный атрибут, по которому можно фильтровать отчёты.\n",
        "\n",
        "\t- quarter_num, month_name_eng, weekday_name, weekday_num — текстовые и числовые атрибуты, отражающие название месяца, день недели и квартал. Они позволяют строить отчёты без дополнительной логики преобразования дат.\n",
        "\n",
        "\t- iso_week_num, iso_year_num, day_of_week_iso — ISO-атрибуты, используемые при недельной аналитике (WAU, недельные отчёты). Они обеспечивают корректное представление недель, не разрывающихся на границах календарных лет.\n",
        "\n",
        "\t- week_start_date, week_end_date, month_start_date, month_end_date, quarter_start_date, quarter_end_date, year_start_date, year_end_date — поля, задающие границы периодов. Благодаря им можно быстро выполнять джойны и фильтры по неделям, месяцам или кварталам без пересчёта дат «на лету».\n",
        "\n",
        "\t- is_weekend — логический признак выходного дня, полезен при анализе активности студентов по дням недели.\n",
        "  \n",
        "\t- is_holiday и holiday_name — признаки праздников, позволяющие учитывать периоды, когда активность пользователей обычно снижается (например, новогодние каникулы).\n",
        "\n",
        "Такое проектирование ролевого измерения «Дата» обеспечивает гибкость аналитики и повторное использование. Одно измерение можно применять в разных контекстах (дата зачисления, дата завершения, дата оплаты и т.д.), при этом модель остаётся логически целостной и легко расширяемой."
      ],
      "metadata": {
        "id": "y49mucxPKhPH"
      }
    },
    {
      "cell_type": "code",
      "source": [
        "CREATE TABLE dates_dim (\n",
        "    date_key            INTEGER      PRIMARY KEY,              -- YYYYMMDD\n",
        "    full_date           DATE         NOT NULL UNIQUE,\n",
        "\n",
        "    -- атрибуты названий\n",
        "    quarter_num         INTEGER      NOT NULL,                 -- 1..4\n",
        "    month_name_eng      TEXT         NOT NULL,                 -- january...\n",
        "    weekday_name        TEXT         NOT NULL,                 -- monday...\n",
        "    weekday_num         INTEGER      NOT NULL,                 -- 1..7\n",
        "\n",
        "\n",
        "    -- Неделя/день недели (ISO) - для некоторых задач может понадобиться перевод стандартного календаря в формат ISO\n",
        "    iso_week_num        INTEGER      NOT NULL,                 -- 1..53\n",
        "    iso_year_num        INTEGER      NOT NULL,\n",
        "    day_of_week_iso     INTEGER      NOT NULL,                 -- 1=Mon .. 7=Sun\n",
        "\n",
        "    -- Границы периодов - может понадобиться для джойнов/фильтров\n",
        "    week_start_date     DATE         NOT NULL,                 -- понедельник\n",
        "    week_end_date       DATE         NOT NULL,\n",
        "    month_start_date    DATE         NOT NULL,\n",
        "    month_end_date      DATE         NOT NULL,\n",
        "    quarter_start_date  DATE         NOT NULL,\n",
        "    quarter_end_date    DATE         NOT NULL,\n",
        "    year_start_date     DATE         NOT NULL,\n",
        "    year_end_date       DATE         NOT NULL,\n",
        "\n",
        "    -- Проверки на выходной/праздничный день\n",
        "    is_weekend          BOOLEAN      NOT NULL,\n",
        "    is_holiday          BOOLEAN      DEFAULT FALSE,\n",
        "    holiday_name        TEXT\n",
        ");\n",
        "\n",
        "-- Заполнение таблицы календарных дат\n",
        "INSERT INTO dates_dim (\n",
        "    date_key,\n",
        "    full_date,\n",
        "    quarter_num,\n",
        "    month_name_eng,\n",
        "    weekday_name,\n",
        "    weekday_num,\n",
        "    iso_week_num,\n",
        "    iso_year_num,\n",
        "    day_of_week_iso,\n",
        "    week_start_date,\n",
        "    week_end_date,\n",
        "    month_start_date,\n",
        "    month_end_date,\n",
        "    quarter_start_date,\n",
        "    quarter_end_date,\n",
        "    year_start_date,\n",
        "    year_end_date,\n",
        "    is_weekend,\n",
        "    is_holiday,\n",
        "    holiday_name\n",
        ")\n",
        "SELECT\n",
        "    -- уникальный числовой ключ в формате YYYYMMDD\n",
        "    EXTRACT(YEAR FROM d)::int * 10000 +\n",
        "    EXTRACT(MONTH FROM d)::int * 100 +\n",
        "    EXTRACT(DAY FROM d)::int                     AS date_key,\n",
        "\n",
        "    d                                            AS full_date,\n",
        "\n",
        "    EXTRACT(QUARTER FROM d)::int                 AS quarter_num,\n",
        "    TO_CHAR(d, 'Month')                          AS month_name_eng,\n",
        "    TO_CHAR(d, 'Day')                            AS weekday_name,\n",
        "    EXTRACT(DOW FROM d)::int + 1                 AS weekday_num,  -- 1=Monday ... 7=Sunday (смещение от 0)\n",
        "\n",
        "    EXTRACT(ISOWEEK FROM d)::int                 AS iso_week_num,\n",
        "    EXTRACT(ISOYEAR FROM d)::int                 AS iso_year_num,\n",
        "    EXTRACT(ISODOW FROM d)::int                  AS day_of_week_iso,\n",
        "\n",
        "    -- вычисляем границы недель, месяцев, кварталов, годов\n",
        "    (d - (EXTRACT(ISODOW FROM d)::int - 1))::date           AS week_start_date,\n",
        "    (d + (7 - EXTRACT(ISODOW FROM d)::int))::date           AS week_end_date,\n",
        "    date_trunc('month', d)::date                            AS month_start_date,\n",
        "    (date_trunc('month', d) + interval '1 month - 1 day')::date AS month_end_date,\n",
        "    date_trunc('quarter', d)::date                          AS quarter_start_date,\n",
        "    (date_trunc('quarter', d) + interval '3 month - 1 day')::date AS quarter_end_date,\n",
        "    date_trunc('year', d)::date                             AS year_start_date,\n",
        "    (date_trunc('year', d) + interval '1 year - 1 day')::date    AS year_end_date,\n",
        "\n",
        "    (EXTRACT(ISODOW FROM d)::int IN (6,7))                  AS is_weekend,\n",
        "    FALSE                                                   AS is_holiday, -- далее необходимо отдельно пройтись по производственному\n",
        "                                                                          -- календарю для заполнения праздников\n",
        "    NULL                                                    AS holiday_name\n",
        "\n",
        "FROM generate_series(\n",
        "        '2018-01-01'::date,\n",
        "        '2030-12-31'::date,\n",
        "        interval '1 day'\n",
        "     ) AS gs(d)\n",
        "ORDER BY d;"
      ],
      "metadata": {
        "id": "Va8mo8HZmTaD"
      },
      "execution_count": null,
      "outputs": []
    },
    {
      "cell_type": "markdown",
      "source": [
        "### Задание №5\n",
        "\n",
        "Конечно, можно посчитать ARPU (Средний доход с одного пользователя -  показывает среднюю сумму денег, которую каждый пользователь тратит в продукте за месяц) поделив выручку на общее количество пользователей. Но так мы получим малоинформативную метрику с отставанием на 1 месяц.\n",
        "\n",
        "```sql\n",
        "SELECT\n",
        "\tto_char(eventtime, 'YYYY-mm-dd') as \"Дата\",\n",
        "\tsum(priceRUB) as \"Выручка\",\n",
        "\tcount(user_id) as \"К-во зачислений на курсы\",\n",
        "\tcount(distinct user_id) as \"Количество студентов\",\n",
        "\tavg(priceRUB) as \"Средний чек\",\n",
        "\tsum(priceRUB)/count(distinct user_id)) as \"ARPU\"  \n",
        "FROM myproduct.payments\n",
        "WHERE eventtime>=current_date - interval '1 month'\n",
        "AND eventtime < current_date\n",
        "GROUP BY 1\n",
        "```\n",
        "Перепиши неудачный питоновский код, чтобы считать ARPU за предыдущий день и **обязательно** раздели код на \"Слой приложения\" и \"Слой инфраструктуры\" по архитектуре DDD."
      ],
      "metadata": {
        "id": "xT8QW2ULuC5b"
      }
    },
    {
      "cell_type": "markdown",
      "source": [
        "```python\n",
        "query = \"\"\"\n",
        "        SELECT\n",
        "          to_char(eventtime, 'YYYY-mm-dd') as \"Дата\",\n",
        "          sum(priceRUB) as \"Выручка\",\n",
        "          count(user_id) as \"К-во зачислений на курсы\",\n",
        "          count(distinct user_id) as \"Количество студентов\",\n",
        "          avg(priceRUB) as \"Средний чек\",\n",
        "          sum(priceRUB)/count(distinct user_id)) as \"ARPU\"  \n",
        "      FROM myproduct.payments\n",
        "      -- если ClickHouse, то лучше использовать быстрый PREWHERE\n",
        "      WHERE eventtime>=current_date - interval '1 month' -- <- переделай за предыдущий день\n",
        "      AND eventtime < current_date\n",
        "      GROUP BY 1      \n",
        "\"\"\"\n",
        "try:\n",
        "    import psycopg2\n",
        "    print(\"Psycopg2 установлен.\")\n",
        "    connection = psycopg2.connect(\"dbname='db' user='user' password='password' host='localhost'\")\n",
        "except ImportError:\n",
        "    print(\"Psycopg2 не установлен.\")\n",
        "    try:\n",
        "      import pymysql.cursors\n",
        "      connection = pymysql.connect(host='localhost',\n",
        "                                  user='user',\n",
        "                                  password='password',\n",
        "                                  database='db',\n",
        "                                  charset='utf8mb4',\n",
        "                                  cursorclass=pymysql.cursors.DictCursor)\n",
        "    except:\n",
        "      print(\"pymysql не установлен.\")\n",
        "      import clickhouse_connect\n",
        "      client = clickhouse_connect.get_client(host='localhost', username='user', password='password')\n",
        "      result = client.query(query.replace(\"WHERE\", \"PREWHERE\").replace(\"AND\", \"WHERE\")).result_rows\n",
        "      print(result)\n",
        "      exit()\n",
        "\n",
        "with connection:\n",
        "    with connection.cursor() as cursor:\n",
        "        cursor.execute(query)\n",
        "        result = cursor.fetchall()\n",
        "print(result)    \n",
        "```"
      ],
      "metadata": {
        "id": "1fimxHbaSgOs"
      }
    },
    {
      "cell_type": "code",
      "source": [
        "# слой приложения\n",
        "# app.py\n",
        "import sys\n",
        "from datetime import datetime, timedelta, timezone\n",
        "from infra import PgPaymentsRepo, MySqlPaymentsRepo, ClickHousePaymentsRepo\n",
        "\n",
        "\n",
        "class ArpuService:\n",
        "    \"\"\"считает ARPU за предыдущий день\"\"\"\n",
        "    def __init__(self, repo):\n",
        "        self.repo = repo\n",
        "\n",
        "    def get_previous_day_window(self):\n",
        "        now = datetime.now(timezone.utc)\n",
        "        end = now.replace(hour=0, minute=0, second=0, microsecond=0)\n",
        "        start = end - timedelta(days=1)\n",
        "        return start, end\n",
        "\n",
        "    def calculate_arpu_previous_day(self):\n",
        "        start, end = self.get_previous_day_window()\n",
        "        return self.repo.get_arpu_for_period(start, end)\n",
        "\n",
        "\n",
        "if __name__ == \"__main__\":\n",
        "    # 1. Читаем аргумент из командной строки\n",
        "    # python app.py mysql  или  python app.py clickhouse\n",
        "    db_type = sys.argv[1].lower() if len(sys.argv) > 1 else \"postgres\"\n",
        "\n",
        "    # 2. Инициализация подходящего репозитория\n",
        "    if db_type == \"mysql\":\n",
        "        repo = MySqlPaymentsRepo(host=\"localhost\", user=\"user\", password=\"password\", database=\"db\")\n",
        "    elif db_type == \"clickhouse\":\n",
        "        repo = ClickHousePaymentsRepo(host=\"localhost\", user=\"user\", password=\"password\", database=\"default\")\n",
        "    else:\n",
        "        repo = PgPaymentsRepo(dsn=\"dbname=db user=user password=password host=localhost\")\n",
        "\n",
        "    # 3. Вычисляем ARPU\n",
        "    service = ArpuService(repo)\n",
        "    result = service.calculate_arpu_previous_day()\n",
        "    print(result)"
      ],
      "metadata": {
        "id": "8tX4kUOkNgFJ"
      },
      "execution_count": null,
      "outputs": []
    },
    {
      "cell_type": "code",
      "source": [
        "# слой архитектуры\n",
        "\n",
        "# infra.py\n",
        "import psycopg2\n",
        "import pymysql\n",
        "import clickhouse_connect\n",
        "\n",
        "_SQL = \"\"\"\n",
        "SELECT\n",
        "    COALESCE(SUM(priceRUB), 0) AS revenue,\n",
        "    COUNT(user_id) AS enrollments,\n",
        "    COUNT(DISTINCT user_id) AS users,\n",
        "    AVG(priceRUB) AS avg_check,\n",
        "    CASE WHEN COUNT(DISTINCT user_id)=0 THEN NULL\n",
        "         ELSE SUM(priceRUB)/COUNT(DISTINCT user_id)\n",
        "    END AS arpu\n",
        "FROM myproduct.payments\n",
        "WHERE eventtime >= %s AND eventtime < %s;\n",
        "\"\"\"\n",
        "\n",
        "\n",
        "class PgPaymentsRepo:\n",
        "    \"\"\"Репозиторий для PostgreSQL\"\"\"\n",
        "    def __init__(self, dsn):\n",
        "        self.dsn = dsn\n",
        "\n",
        "    def get_arpu_for_period(self, start, end):\n",
        "        with psycopg2.connect(self.dsn) as conn, conn.cursor() as cur:\n",
        "            cur.execute(_SQL, (start, end))\n",
        "            row = cur.fetchone()\n",
        "        return dict(zip([\"revenue\", \"enrollments\", \"users\", \"avg_check\", \"arpu\"], row))\n",
        "\n",
        "\n",
        "class MySqlPaymentsRepo:\n",
        "    \"\"\"Репозиторий для MySQL\"\"\"\n",
        "    def __init__(self, host, user, password, database):\n",
        "        self.cfg = dict(host=host, user=user, password=password, database=database)\n",
        "\n",
        "    def get_arpu_for_period(self, start, end):\n",
        "        with pymysql.connect(**self.cfg) as conn:\n",
        "            with conn.cursor() as cur:\n",
        "                cur.execute(_SQL, (start, end))\n",
        "                row = cur.fetchone()\n",
        "        return dict(zip([\"revenue\", \"enrollments\", \"users\", \"avg_check\", \"arpu\"], row))\n",
        "\n",
        "\n",
        "class ClickHousePaymentsRepo:\n",
        "    \"\"\"Репозиторий для ClickHouse\"\"\"\n",
        "    def __init__(self, host, user, password, database=\"default\"):\n",
        "        self.client = clickhouse_connect.get_client(host=host, username=user, password=password, database=database)\n",
        "\n",
        "    def get_arpu_for_period(self, start, end):\n",
        "        query = \"\"\"\n",
        "        SELECT\n",
        "            sum(priceRUB) AS revenue,\n",
        "            count(user_id) AS enrollments,\n",
        "            countDistinct(user_id) AS users,\n",
        "            avg(priceRUB) AS avg_check,\n",
        "            if(countDistinct(user_id)=0, NULL, sum(priceRUB)/countDistinct(user_id)) AS arpu\n",
        "        FROM myproduct.payments\n",
        "        PREWHERE eventtime >= %(start)s AND eventtime < %(end)s\n",
        "        \"\"\"\n",
        "        rows = self.client.query(query, params={\"start\": start, \"end\": end}).result_rows\n",
        "        return dict(zip([\"revenue\", \"enrollments\", \"users\", \"avg_check\", \"arpu\"], rows[0]))"
      ],
      "metadata": {
        "id": "dzzUmIj4OEaR"
      },
      "execution_count": null,
      "outputs": []
    }
  ]
}